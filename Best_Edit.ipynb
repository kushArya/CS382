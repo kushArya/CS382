{
  "nbformat": 4,
  "nbformat_minor": 0,
  "metadata": {
    "colab": {
      "name": "Best-Edit.ipynb",
      "provenance": [],
      "authorship_tag": "ABX9TyPK9C3KvBLx+aIbaSqBnfJb",
      "include_colab_link": true
    },
    "kernelspec": {
      "name": "python3",
      "display_name": "Python 3"
    },
    "language_info": {
      "name": "python"
    }
  },
  "cells": [
    {
      "cell_type": "markdown",
      "metadata": {
        "id": "view-in-github",
        "colab_type": "text"
      },
      "source": [
        "<a href=\"https://colab.research.google.com/github/kushArya/CS382/blob/main/Best_Edit.ipynb\" target=\"_parent\"><img src=\"https://colab.research.google.com/assets/colab-badge.svg\" alt=\"Open In Colab\"/></a>"
      ]
    },
    {
      "cell_type": "code",
      "metadata": {
        "id": "CIyp6MZeKZhg"
      },
      "source": [
        "alpha = \"abcdefghijklmnopqrstuvwxyz\"\n",
        "\n",
        "def kd_matrix():\n",
        "    \n",
        "    # For each letter key, give its neighbors on the keyboard.\n",
        "    # The first letter is the key, and the remaining letters are the neighbors.\n",
        "    # This was easy for me to type into this code.\n",
        "    # Below I turn this into a dictionary that mimics an adjacency list representation.\n",
        "    kd_adj = [\n",
        "        \"qwa\",\"wesaq\",\"erdsw\",\"rtfde\",\"tygfr\",\"yuhgt\",\"uijhy\",\"iokju\",\"oplki\",\"plo\",\n",
        "        \"aqwsz\",\"sawedxz\",\"dserfcx\",\"fdrtgvc\",\"gftyhbv\",\"hgyujnb\",\"jhuikmn\",\"kjiolm\",\"lkop\",\n",
        "        \"zasx\",\"xzsdc\",\"cxdfv\",\"vcfgb\",\"bvghn\",\"nbhjm\",\"mnjk\"\n",
        "        ]\n",
        "\n",
        "    # Convert to a dictionary with entries 'a' thru 'z' corresponding to keys.\n",
        "    # Each key's entry has a string of that key's neighbors.\n",
        "    adj = {}\n",
        "    for k_ns in kd_adj:\n",
        "        k  = k_ns[0]\n",
        "        ns = k_ns[1:]\n",
        "        adj[k] = ns\n",
        "\n",
        "    # Build a matrix of keyboard distances, represented as a dictionary of dictionaries.\n",
        "    # We do this by running BFS 26 times on the graph defined above.\n",
        "    # The result is a Python object `mtx` where mtx[k1][k2] gives the distance between\n",
        "    # keys k1 and k2 on the keyboard.\n",
        "    # For example, mtx['f','f'] is 0, mtx['f','g'] is 1, and mtx['f','u'] is 3. \n",
        "\n",
        "    mtx = {}\n",
        "    for s in alpha:\n",
        "\n",
        "        # Perform a BFS seeded with the key s.\n",
        "        Q = []\n",
        "        head = 0\n",
        "        dist = {s:0}\n",
        "        Q.append(s)\n",
        "        # Create a dictionary of distances from s to every key.\n",
        "        while head < len(Q):\n",
        "            u = Q[head]\n",
        "            head += 1\n",
        "            for v in adj[u]:\n",
        "                if v not in dist:\n",
        "                    dist[v] = dist[u] + 1\n",
        "                    Q.append(v)\n",
        "\n",
        "        # Add these distances as the entry for s in the matrix.\n",
        "        mtx[s] = dist\n",
        "\n",
        "    return mtx\n",
        "\n",
        "#            \n",
        "# Compute a matrix of substitution costs useful for spell-checking.\n",
        "# The expression\n",
        "# \n",
        "#   ks_mtx[k1][k2]\n",
        "#\n",
        "# will give you a distance between alphabetic keys k1 and k2 on the\n",
        "# keyboard. Here, k1 and k2 are length 1 character strings 'a' thru 'z'.\n",
        "#\n",
        "# E.g. kd_mtx['f','f'] is 0, kd_mtx['f','g'] is 1, and kd_mtx['f','u'] is 3. \n",
        "#\n",
        "\n",
        "kd_mtx = kd_matrix()   "
      ],
      "execution_count": 2,
      "outputs": []
    },
    {
      "cell_type": "code",
      "metadata": {
        "colab": {
          "base_uri": "https://localhost:8080/"
        },
        "id": "A4o93DW_Cy6v",
        "outputId": "e1b836b4-c16c-4fbc-afa5-da99a3c6453f"
      },
      "source": [
        "import numpy as np\n",
        "d_cost = 3\n",
        "i_cost = 3\n",
        "def bestEdit(x, y):\n",
        "  why = {}                                      #each element of BE gets a why so we don't need anymore calculations after determining BE[n-1,m-1]\n",
        "  n, m = len(x), len(y)\n",
        "  BE = np.zeros(shape=(n,m))\n",
        "\n",
        "  BE[0,0] = 0\n",
        "  for i in range(n):\n",
        "    for j in range(m):\n",
        "      why[BE[i,j]] = ''                         #initializing all keys so we can do string addition and backwards references without error\n",
        "  for i in range(1, n):\n",
        "    BE[i,0] = BE[i-1, 0] + d_cost\n",
        "    why[BE[i,0]] = why[BE[i-1, 0]] + 'deleted: ' + x[i]\n",
        "  for j in range(1, m):\n",
        "    BE[0,j] = BE[0, j-1] + i_cost\n",
        "    why[BE[0,j]] = why[BE[i, j-1]] + '\\n inserted: ' + y[j]\n",
        "  for i in range(1, n):\n",
        "    for j in range(1, m):\n",
        "      ins = BE[i,j-1] + i_cost\n",
        "      cs = BE[i-1, j-1] + kd_mtx[x[i]][y[j]]    #the cost of substitution is determined by the key distances\n",
        "      de = BE[i-1, j] + d_cost\n",
        "      t = de + 1                                #jank way to make sure t isn't the min when transpose isn't viable\n",
        "      if x[i]==y[j-1] and x[i-1]==y[j]:\n",
        "        t = BE[i-2, j-2] + 1\n",
        "      a = min(ins, cs, de, t)                   #assgining a variable bc used lots in the why\n",
        "      BE[i,j] = a\n",
        "      if a == ins: why[BE[i,j]] = why[BE[i, j-1]] + '\\n inserted: ' + y[j]                        #it might be optimal to make a dictionary or tuple or something, but this works fine\n",
        "      elif a == cs: why[BE[i,j]] = why[BE[i-1, j-1]] + '\\n substituted: ' + x[i] + ' for ' + y[j]\n",
        "      elif a == de: why[BE[i,j]] = why[BE[i-1, j]] + '\\n deleted: ' + x[i]\n",
        "      elif a == t: why[BE[i,j]] = why[BE[i-2, j-2]] + '\\n twiddled: ' + x[i-1] + ' and ' + x[i] \n",
        "\n",
        "  print(BE)\n",
        "  print(why[BE[n-1,m-1]])\n",
        "  return BE[n-1,m-1]\n",
        "\n",
        "bestEdit('abdc', 'bacd')"
      ],
      "execution_count": 11,
      "outputs": [
        {
          "output_type": "stream",
          "text": [
            "[[0. 3. 6. 9.]\n",
            " [3. 1. 4. 7.]\n",
            " [6. 4. 2. 4.]\n",
            " [9. 7. 4. 2.]]\n",
            "\n",
            " transposed: a and b\n",
            " transposed: d and c\n"
          ],
          "name": "stdout"
        },
        {
          "output_type": "execute_result",
          "data": {
            "text/plain": [
              "2.0"
            ]
          },
          "metadata": {
            "tags": []
          },
          "execution_count": 11
        }
      ]
    }
  ]
}